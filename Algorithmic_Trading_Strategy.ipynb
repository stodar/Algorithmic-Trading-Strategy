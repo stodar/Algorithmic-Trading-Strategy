{
  "nbformat": 4,
  "nbformat_minor": 0,
  "metadata": {
    "colab": {
      "provenance": [],
      "authorship_tag": "ABX9TyNB0eevBS0F1cvteSfm8O6T",
      "include_colab_link": true
    },
    "kernelspec": {
      "name": "python3",
      "display_name": "Python 3"
    },
    "language_info": {
      "name": "python"
    }
  },
  "cells": [
    {
      "cell_type": "markdown",
      "metadata": {
        "id": "view-in-github",
        "colab_type": "text"
      },
      "source": [
        "<a href=\"https://colab.research.google.com/github/stodar/Algorithmic-Trading-Strategy/blob/main/Algorithmic_Trading_Strategy.ipynb\" target=\"_parent\"><img src=\"https://colab.research.google.com/assets/colab-badge.svg\" alt=\"Open In Colab\"/></a>"
      ]
    },
    {
      "cell_type": "markdown",
      "source": [
        "# Building an Algorithmic Trading Strategy using Reinforcement Learning\n",
        "\n",
        "## Source : [Link](https://medium.com/@tomydinero27/building-an-algorithmic-trading-strategy-using-reinforcement-learning-4ab12488d190)"
      ],
      "metadata": {
        "id": "sAlm63nEcT1u"
      }
    },
    {
      "cell_type": "markdown",
      "source": [
        "Nous avons exploré comment construire une stratégie de trading algorithmique en utilisant l'apprentissage par renforcement en Python. Nous avons commencé par acquérir des données de prix historiques à l'aide de la bibliothèque yfinance, puis nous avons prétraité les données pour les préparer à la formation. Nous avons ensuite construit un modèle d'apprentissage par renforcement à l'aide de l'algorithme d'optimisation de la politique proximale (PPO) et nous l'avons formé sur les données de formation. Enfin, nous avons évalué la performance de notre stratégie de trading sur les données de test et visualisé les résultats.\n",
        "\n",
        "En tirant parti du pouvoir de l'apprentissage par renforcement, nous pouvons développer des stratégies de trading qui s'adaptent à l'évolution des conditions du marché et apprennent des expériences passées. Cela ouvre de nouvelles possibilités aux traders de prendre des décisions éclairées et potentiellement d'améliorer leurs performances de négociation.\n",
        "\n",
        "N'oubliez pas que la mise en place d'une stratégie de négociation réussie nécessite un examen attentif de divers facteurs, y compris la gestion des risques, la dynamique du marché et les coûts de négociation. Il est important de tester et de valider minutieusement toute stratégie de trading avant de la déployer dans un environnement de trading en direct."
      ],
      "metadata": {
        "id": "sB22qpB20VAA"
      }
    },
    {
      "cell_type": "markdown",
      "source": [
        "\n",
        "\n",
        "---\n",
        "\n"
      ],
      "metadata": {
        "id": "20x_Wi7A0TfH"
      }
    },
    {
      "cell_type": "code",
      "execution_count": 15,
      "metadata": {
        "id": "jXquOQKFcQNm"
      },
      "outputs": [],
      "source": [
        "import yfinance as yf\n",
        "import numpy as np\n",
        "import pandas as pd"
      ]
    },
    {
      "cell_type": "markdown",
      "source": [
        "## Step 1: Data Acquisition"
      ],
      "metadata": {
        "id": "lQFa8dZjdvz6"
      }
    },
    {
      "cell_type": "code",
      "source": [
        "# Define the ticker symbol\n",
        "ticker = \"AAPL\""
      ],
      "metadata": {
        "id": "iCvu4QhDctJl"
      },
      "execution_count": 3,
      "outputs": []
    },
    {
      "cell_type": "code",
      "source": [
        "# Download the historical price data\n",
        "data = yf.download(ticker, start=\"2018-01-01\", end=\"2023-10-31\")"
      ],
      "metadata": {
        "colab": {
          "base_uri": "https://localhost:8080/"
        },
        "id": "i_RVqt93c7Bx",
        "outputId": "1c19dc5a-80ff-4f1f-ddb0-c3738d03a81c"
      },
      "execution_count": 4,
      "outputs": [
        {
          "output_type": "stream",
          "name": "stdout",
          "text": [
            "\r[*********************100%%**********************]  1 of 1 completed\n"
          ]
        }
      ]
    },
    {
      "cell_type": "code",
      "source": [
        "data.head()"
      ],
      "metadata": {
        "colab": {
          "base_uri": "https://localhost:8080/",
          "height": 235
        },
        "id": "cXhnOWnRdQ6S",
        "outputId": "4a99ff89-52ac-48c3-9818-a6d535ae7f17"
      },
      "execution_count": 6,
      "outputs": [
        {
          "output_type": "execute_result",
          "data": {
            "text/plain": [
              "                 Open       High        Low      Close  Adj Close     Volume\n",
              "Date                                                                        \n",
              "2018-01-02  42.540001  43.075001  42.314999  43.064999  40.776520  102223600\n",
              "2018-01-03  43.132500  43.637501  42.990002  43.057499  40.769417  118071600\n",
              "2018-01-04  43.134998  43.367500  43.020000  43.257500  40.958797   89738400\n",
              "2018-01-05  43.360001  43.842499  43.262501  43.750000  41.425121   94640000\n",
              "2018-01-08  43.587502  43.902500  43.482498  43.587502  41.271255   82271200"
            ],
            "text/html": [
              "\n",
              "  <div id=\"df-7d35a114-d9c8-4a1b-a706-e19f631f5d08\" class=\"colab-df-container\">\n",
              "    <div>\n",
              "<style scoped>\n",
              "    .dataframe tbody tr th:only-of-type {\n",
              "        vertical-align: middle;\n",
              "    }\n",
              "\n",
              "    .dataframe tbody tr th {\n",
              "        vertical-align: top;\n",
              "    }\n",
              "\n",
              "    .dataframe thead th {\n",
              "        text-align: right;\n",
              "    }\n",
              "</style>\n",
              "<table border=\"1\" class=\"dataframe\">\n",
              "  <thead>\n",
              "    <tr style=\"text-align: right;\">\n",
              "      <th></th>\n",
              "      <th>Open</th>\n",
              "      <th>High</th>\n",
              "      <th>Low</th>\n",
              "      <th>Close</th>\n",
              "      <th>Adj Close</th>\n",
              "      <th>Volume</th>\n",
              "    </tr>\n",
              "    <tr>\n",
              "      <th>Date</th>\n",
              "      <th></th>\n",
              "      <th></th>\n",
              "      <th></th>\n",
              "      <th></th>\n",
              "      <th></th>\n",
              "      <th></th>\n",
              "    </tr>\n",
              "  </thead>\n",
              "  <tbody>\n",
              "    <tr>\n",
              "      <th>2018-01-02</th>\n",
              "      <td>42.540001</td>\n",
              "      <td>43.075001</td>\n",
              "      <td>42.314999</td>\n",
              "      <td>43.064999</td>\n",
              "      <td>40.776520</td>\n",
              "      <td>102223600</td>\n",
              "    </tr>\n",
              "    <tr>\n",
              "      <th>2018-01-03</th>\n",
              "      <td>43.132500</td>\n",
              "      <td>43.637501</td>\n",
              "      <td>42.990002</td>\n",
              "      <td>43.057499</td>\n",
              "      <td>40.769417</td>\n",
              "      <td>118071600</td>\n",
              "    </tr>\n",
              "    <tr>\n",
              "      <th>2018-01-04</th>\n",
              "      <td>43.134998</td>\n",
              "      <td>43.367500</td>\n",
              "      <td>43.020000</td>\n",
              "      <td>43.257500</td>\n",
              "      <td>40.958797</td>\n",
              "      <td>89738400</td>\n",
              "    </tr>\n",
              "    <tr>\n",
              "      <th>2018-01-05</th>\n",
              "      <td>43.360001</td>\n",
              "      <td>43.842499</td>\n",
              "      <td>43.262501</td>\n",
              "      <td>43.750000</td>\n",
              "      <td>41.425121</td>\n",
              "      <td>94640000</td>\n",
              "    </tr>\n",
              "    <tr>\n",
              "      <th>2018-01-08</th>\n",
              "      <td>43.587502</td>\n",
              "      <td>43.902500</td>\n",
              "      <td>43.482498</td>\n",
              "      <td>43.587502</td>\n",
              "      <td>41.271255</td>\n",
              "      <td>82271200</td>\n",
              "    </tr>\n",
              "  </tbody>\n",
              "</table>\n",
              "</div>\n",
              "    <div class=\"colab-df-buttons\">\n",
              "\n",
              "  <div class=\"colab-df-container\">\n",
              "    <button class=\"colab-df-convert\" onclick=\"convertToInteractive('df-7d35a114-d9c8-4a1b-a706-e19f631f5d08')\"\n",
              "            title=\"Convert this dataframe to an interactive table.\"\n",
              "            style=\"display:none;\">\n",
              "\n",
              "  <svg xmlns=\"http://www.w3.org/2000/svg\" height=\"24px\" viewBox=\"0 -960 960 960\">\n",
              "    <path d=\"M120-120v-720h720v720H120Zm60-500h600v-160H180v160Zm220 220h160v-160H400v160Zm0 220h160v-160H400v160ZM180-400h160v-160H180v160Zm440 0h160v-160H620v160ZM180-180h160v-160H180v160Zm440 0h160v-160H620v160Z\"/>\n",
              "  </svg>\n",
              "    </button>\n",
              "\n",
              "  <style>\n",
              "    .colab-df-container {\n",
              "      display:flex;\n",
              "      gap: 12px;\n",
              "    }\n",
              "\n",
              "    .colab-df-convert {\n",
              "      background-color: #E8F0FE;\n",
              "      border: none;\n",
              "      border-radius: 50%;\n",
              "      cursor: pointer;\n",
              "      display: none;\n",
              "      fill: #1967D2;\n",
              "      height: 32px;\n",
              "      padding: 0 0 0 0;\n",
              "      width: 32px;\n",
              "    }\n",
              "\n",
              "    .colab-df-convert:hover {\n",
              "      background-color: #E2EBFA;\n",
              "      box-shadow: 0px 1px 2px rgba(60, 64, 67, 0.3), 0px 1px 3px 1px rgba(60, 64, 67, 0.15);\n",
              "      fill: #174EA6;\n",
              "    }\n",
              "\n",
              "    .colab-df-buttons div {\n",
              "      margin-bottom: 4px;\n",
              "    }\n",
              "\n",
              "    [theme=dark] .colab-df-convert {\n",
              "      background-color: #3B4455;\n",
              "      fill: #D2E3FC;\n",
              "    }\n",
              "\n",
              "    [theme=dark] .colab-df-convert:hover {\n",
              "      background-color: #434B5C;\n",
              "      box-shadow: 0px 1px 3px 1px rgba(0, 0, 0, 0.15);\n",
              "      filter: drop-shadow(0px 1px 2px rgba(0, 0, 0, 0.3));\n",
              "      fill: #FFFFFF;\n",
              "    }\n",
              "  </style>\n",
              "\n",
              "    <script>\n",
              "      const buttonEl =\n",
              "        document.querySelector('#df-7d35a114-d9c8-4a1b-a706-e19f631f5d08 button.colab-df-convert');\n",
              "      buttonEl.style.display =\n",
              "        google.colab.kernel.accessAllowed ? 'block' : 'none';\n",
              "\n",
              "      async function convertToInteractive(key) {\n",
              "        const element = document.querySelector('#df-7d35a114-d9c8-4a1b-a706-e19f631f5d08');\n",
              "        const dataTable =\n",
              "          await google.colab.kernel.invokeFunction('convertToInteractive',\n",
              "                                                    [key], {});\n",
              "        if (!dataTable) return;\n",
              "\n",
              "        const docLinkHtml = 'Like what you see? Visit the ' +\n",
              "          '<a target=\"_blank\" href=https://colab.research.google.com/notebooks/data_table.ipynb>data table notebook</a>'\n",
              "          + ' to learn more about interactive tables.';\n",
              "        element.innerHTML = '';\n",
              "        dataTable['output_type'] = 'display_data';\n",
              "        await google.colab.output.renderOutput(dataTable, element);\n",
              "        const docLink = document.createElement('div');\n",
              "        docLink.innerHTML = docLinkHtml;\n",
              "        element.appendChild(docLink);\n",
              "      }\n",
              "    </script>\n",
              "  </div>\n",
              "\n",
              "\n",
              "<div id=\"df-52a56eaa-c91a-4043-90b5-03890374a985\">\n",
              "  <button class=\"colab-df-quickchart\" onclick=\"quickchart('df-52a56eaa-c91a-4043-90b5-03890374a985')\"\n",
              "            title=\"Suggest charts.\"\n",
              "            style=\"display:none;\">\n",
              "\n",
              "<svg xmlns=\"http://www.w3.org/2000/svg\" height=\"24px\"viewBox=\"0 0 24 24\"\n",
              "     width=\"24px\">\n",
              "    <g>\n",
              "        <path d=\"M19 3H5c-1.1 0-2 .9-2 2v14c0 1.1.9 2 2 2h14c1.1 0 2-.9 2-2V5c0-1.1-.9-2-2-2zM9 17H7v-7h2v7zm4 0h-2V7h2v10zm4 0h-2v-4h2v4z\"/>\n",
              "    </g>\n",
              "</svg>\n",
              "  </button>\n",
              "\n",
              "<style>\n",
              "  .colab-df-quickchart {\n",
              "      --bg-color: #E8F0FE;\n",
              "      --fill-color: #1967D2;\n",
              "      --hover-bg-color: #E2EBFA;\n",
              "      --hover-fill-color: #174EA6;\n",
              "      --disabled-fill-color: #AAA;\n",
              "      --disabled-bg-color: #DDD;\n",
              "  }\n",
              "\n",
              "  [theme=dark] .colab-df-quickchart {\n",
              "      --bg-color: #3B4455;\n",
              "      --fill-color: #D2E3FC;\n",
              "      --hover-bg-color: #434B5C;\n",
              "      --hover-fill-color: #FFFFFF;\n",
              "      --disabled-bg-color: #3B4455;\n",
              "      --disabled-fill-color: #666;\n",
              "  }\n",
              "\n",
              "  .colab-df-quickchart {\n",
              "    background-color: var(--bg-color);\n",
              "    border: none;\n",
              "    border-radius: 50%;\n",
              "    cursor: pointer;\n",
              "    display: none;\n",
              "    fill: var(--fill-color);\n",
              "    height: 32px;\n",
              "    padding: 0;\n",
              "    width: 32px;\n",
              "  }\n",
              "\n",
              "  .colab-df-quickchart:hover {\n",
              "    background-color: var(--hover-bg-color);\n",
              "    box-shadow: 0 1px 2px rgba(60, 64, 67, 0.3), 0 1px 3px 1px rgba(60, 64, 67, 0.15);\n",
              "    fill: var(--button-hover-fill-color);\n",
              "  }\n",
              "\n",
              "  .colab-df-quickchart-complete:disabled,\n",
              "  .colab-df-quickchart-complete:disabled:hover {\n",
              "    background-color: var(--disabled-bg-color);\n",
              "    fill: var(--disabled-fill-color);\n",
              "    box-shadow: none;\n",
              "  }\n",
              "\n",
              "  .colab-df-spinner {\n",
              "    border: 2px solid var(--fill-color);\n",
              "    border-color: transparent;\n",
              "    border-bottom-color: var(--fill-color);\n",
              "    animation:\n",
              "      spin 1s steps(1) infinite;\n",
              "  }\n",
              "\n",
              "  @keyframes spin {\n",
              "    0% {\n",
              "      border-color: transparent;\n",
              "      border-bottom-color: var(--fill-color);\n",
              "      border-left-color: var(--fill-color);\n",
              "    }\n",
              "    20% {\n",
              "      border-color: transparent;\n",
              "      border-left-color: var(--fill-color);\n",
              "      border-top-color: var(--fill-color);\n",
              "    }\n",
              "    30% {\n",
              "      border-color: transparent;\n",
              "      border-left-color: var(--fill-color);\n",
              "      border-top-color: var(--fill-color);\n",
              "      border-right-color: var(--fill-color);\n",
              "    }\n",
              "    40% {\n",
              "      border-color: transparent;\n",
              "      border-right-color: var(--fill-color);\n",
              "      border-top-color: var(--fill-color);\n",
              "    }\n",
              "    60% {\n",
              "      border-color: transparent;\n",
              "      border-right-color: var(--fill-color);\n",
              "    }\n",
              "    80% {\n",
              "      border-color: transparent;\n",
              "      border-right-color: var(--fill-color);\n",
              "      border-bottom-color: var(--fill-color);\n",
              "    }\n",
              "    90% {\n",
              "      border-color: transparent;\n",
              "      border-bottom-color: var(--fill-color);\n",
              "    }\n",
              "  }\n",
              "</style>\n",
              "\n",
              "  <script>\n",
              "    async function quickchart(key) {\n",
              "      const quickchartButtonEl =\n",
              "        document.querySelector('#' + key + ' button');\n",
              "      quickchartButtonEl.disabled = true;  // To prevent multiple clicks.\n",
              "      quickchartButtonEl.classList.add('colab-df-spinner');\n",
              "      try {\n",
              "        const charts = await google.colab.kernel.invokeFunction(\n",
              "            'suggestCharts', [key], {});\n",
              "      } catch (error) {\n",
              "        console.error('Error during call to suggestCharts:', error);\n",
              "      }\n",
              "      quickchartButtonEl.classList.remove('colab-df-spinner');\n",
              "      quickchartButtonEl.classList.add('colab-df-quickchart-complete');\n",
              "    }\n",
              "    (() => {\n",
              "      let quickchartButtonEl =\n",
              "        document.querySelector('#df-52a56eaa-c91a-4043-90b5-03890374a985 button');\n",
              "      quickchartButtonEl.style.display =\n",
              "        google.colab.kernel.accessAllowed ? 'block' : 'none';\n",
              "    })();\n",
              "  </script>\n",
              "</div>\n",
              "    </div>\n",
              "  </div>\n"
            ]
          },
          "metadata": {},
          "execution_count": 6
        }
      ]
    },
    {
      "cell_type": "code",
      "source": [
        "data.shape"
      ],
      "metadata": {
        "colab": {
          "base_uri": "https://localhost:8080/"
        },
        "id": "11XBgcuYfvP8",
        "outputId": "82e5331a-fec4-4cb8-b6ff-794f4ea4f708"
      },
      "execution_count": 13,
      "outputs": [
        {
          "output_type": "execute_result",
          "data": {
            "text/plain": [
              "(1456, 6)"
            ]
          },
          "metadata": {},
          "execution_count": 13
        }
      ]
    },
    {
      "cell_type": "markdown",
      "source": [
        "## Step 2: Data Preprocessing"
      ],
      "metadata": {
        "id": "dbTOxf8Ndz4M"
      }
    },
    {
      "cell_type": "code",
      "source": [
        "# Remove missing values from the data\n",
        "data = data.dropna()"
      ],
      "metadata": {
        "id": "O09hpajadU6N"
      },
      "execution_count": 7,
      "outputs": []
    },
    {
      "cell_type": "code",
      "source": [
        "from sklearn.preprocessing import MinMaxScaler\n",
        "\n",
        "# Normalize the data\n",
        "scaler = MinMaxScaler()\n",
        "data_normalized = scaler.fit_transform(data)"
      ],
      "metadata": {
        "id": "RxuO9pmtelHP"
      },
      "execution_count": 8,
      "outputs": []
    },
    {
      "cell_type": "code",
      "source": [
        "data_normalized.shape"
      ],
      "metadata": {
        "colab": {
          "base_uri": "https://localhost:8080/"
        },
        "id": "T9axhNMyfCVT",
        "outputId": "afae58be-e083-4bba-c54c-310ae224615f"
      },
      "execution_count": 12,
      "outputs": [
        {
          "output_type": "execute_result",
          "data": {
            "text/plain": [
              "(1456, 6)"
            ]
          },
          "metadata": {},
          "execution_count": 12
        }
      ]
    },
    {
      "cell_type": "code",
      "source": [
        "# Convert data_normalized into a pandas DataFrame\n",
        "data = pd.DataFrame(data_normalized, columns=data.columns)"
      ],
      "metadata": {
        "id": "JTPlXeAffjJO"
      },
      "execution_count": 16,
      "outputs": []
    },
    {
      "cell_type": "code",
      "source": [
        "# Split the data into training and testing sets\n",
        "train_size = int(len(data) * 0.8)\n",
        "train_data = data[:train_size]\n",
        "test_data = data[train_size:]"
      ],
      "metadata": {
        "id": "bPmr4dqJf6kS"
      },
      "execution_count": 17,
      "outputs": []
    },
    {
      "cell_type": "code",
      "source": [
        "train_data.shape , test_data.shape"
      ],
      "metadata": {
        "colab": {
          "base_uri": "https://localhost:8080/"
        },
        "id": "fMHJ3xBfgLeu",
        "outputId": "ed907600-2b35-40e3-a847-e33936665f2e"
      },
      "execution_count": 19,
      "outputs": [
        {
          "output_type": "execute_result",
          "data": {
            "text/plain": [
              "((1164, 6), (292, 6))"
            ]
          },
          "metadata": {},
          "execution_count": 19
        }
      ]
    },
    {
      "cell_type": "markdown",
      "source": [
        "## Step 3: Building the Reinforcement Learning Model"
      ],
      "metadata": {
        "id": "AfHv_6vIgYmL"
      }
    },
    {
      "cell_type": "markdown",
      "source": [
        "**Information :**\n",
        "\n",
        "- le Proximal Policy Optimization est une méthode d'apprentissage par renforcement qui vise à améliorer la politique d'un agent de manière incrémentielle tout en évitant des mises à jour de politique trop agressives. Cela en fait un choix populaire pour l'entraînement d'agents d'IA dans des environnements complexes et dynamiques.\n",
        "\n"
      ],
      "metadata": {
        "id": "zGMjboWciZd1"
      }
    },
    {
      "cell_type": "markdown",
      "source": [
        "- Pour mettre en œuvre l'algorithme PPO, nous utiliserons la bibliothèque `stable-baselines3`, qui fournit une interface de haut niveau pour la formation et l'évaluation des modèles d'apprentissage par renforcement."
      ],
      "metadata": {
        "id": "ok1ZZ87iizCW"
      }
    },
    {
      "cell_type": "code",
      "source": [
        "!pip install stable-baselines3[extra] &>/dev/null # &>/dev/null --> hide output"
      ],
      "metadata": {
        "id": "OCX3j6gul4ZE"
      },
      "execution_count": 31,
      "outputs": []
    },
    {
      "cell_type": "code",
      "source": [
        "!pip install gym &>/dev/null"
      ],
      "metadata": {
        "id": "keR6EYE8nlcf"
      },
      "execution_count": 35,
      "outputs": []
    },
    {
      "cell_type": "code",
      "source": [
        "!pip install pyglet &>/dev/null"
      ],
      "metadata": {
        "id": "dmB4zXOJoGNn"
      },
      "execution_count": 45,
      "outputs": []
    },
    {
      "cell_type": "code",
      "source": [
        "import sys\n",
        "sys.path.append('/home/jupyter/.local/lib/python3.10/site-packages')"
      ],
      "metadata": {
        "id": "3BEXFzuznroy"
      },
      "execution_count": 40,
      "outputs": []
    },
    {
      "cell_type": "code",
      "source": [
        "from stable_baselines3 import PPO\n",
        "#from stable_baselines3.common.envs import DummyVecEnv\n",
        "from stable_baselines3.common.vec_env import DummyVecEnv\n",
        "import gym"
      ],
      "metadata": {
        "id": "hxqDayZ8m43a",
        "outputId": "f62ae5f4-fca8-47df-b807-e26a269ea4e1",
        "colab": {
          "base_uri": "https://localhost:8080/"
        }
      },
      "execution_count": 100,
      "outputs": [
        {
          "output_type": "stream",
          "name": "stderr",
          "text": [
            "/usr/local/lib/python3.10/dist-packages/ipykernel/ipkernel.py:283: DeprecationWarning: `should_run_async` will not call `transform_cell` automatically in the future. Please pass the result to `transformed_cell` argument and any exception that happen during thetransform in `preprocessing_exc_tuple` in IPython 7.17 and above.\n",
            "  and should_run_async(code)\n"
          ]
        }
      ]
    },
    {
      "cell_type": "code",
      "source": [],
      "metadata": {
        "id": "DWDH97P1vtqV"
      },
      "execution_count": 100,
      "outputs": []
    },
    {
      "cell_type": "code",
      "source": [
        "# Define the trading environment\n",
        "class TradingEnvironment(gym.Env):\n",
        "    def __init__(self, data):\n",
        "        self.data = data\n",
        "        self.action_space = gym.spaces.Discrete(3)  # Buy, Sell, Hold\n",
        "        self.observation_space = gym.spaces.Box(low=0, high=1, shape=(len(data.columns),))\n",
        "\n",
        "    def reset(self):\n",
        "        self.current_step = 0\n",
        "        self.account_balance = 100000  # Initial account balance\n",
        "        self.shares_held = 0\n",
        "        self.net_worth = self.account_balance\n",
        "        self.max_net_worth = self.account_balance\n",
        "\n",
        "        return self._next_observation()\n",
        "\n",
        "    def _next_observation(self):\n",
        "        return self.data.iloc[self.current_step].values\n",
        "\n",
        "    def step(self, action):\n",
        "        self._take_action(action)\n",
        "        self.current_step += 1\n",
        "\n",
        "        if self.current_step > len(self.data) - 1:\n",
        "            self.current_step = 0\n",
        "\n",
        "        return self._next_observation(), self._get_reward(), self.net_worth, {}\n",
        "\n",
        "    def _take_action(self, action):\n",
        "        if action == 0:  # Buy\n",
        "            self.shares_held += self.account_balance / self.data.iloc[self.current_step].values[0]\n",
        "            self.account_balance -= self.account_balance\n",
        "        elif action == 1:  # Sell\n",
        "            self.account_balance += self.shares_held * self.data.iloc[self.current_step].values[0]\n",
        "            self.shares_held -= self.shares_held\n",
        "\n",
        "        self.net_worth = self.account_balance + self.shares_held * self.data.iloc[self.current_step].values[0]\n",
        "\n",
        "        if self.net_worth > self.max_net_worth:\n",
        "            self.max_net_worth = self.net_worth\n",
        "\n",
        "    def _get_reward(self):\n",
        "        return self.net_worth - self.account_balance\n",
        "\n",
        "# Create the trading environment\n",
        "env = TradingEnvironment(train_data)"
      ],
      "metadata": {
        "id": "kceq_FaggQYL"
      },
      "execution_count": 101,
      "outputs": []
    },
    {
      "cell_type": "markdown",
      "source": [
        "**Explication :**\n",
        "\n",
        "Le code que vous avez fourni est un script Python qui définit un environnement de trading personnalisé destiné à être utilisé dans l'apprentissage par renforcement avec la bibliothèque Stable Baselines3. Il crée également une instance de cet environnement personnalisé appelée \"env\". Voici une explication du code par sections :\n",
        "\n",
        "1. **Instructions d'importation** :\n",
        "   - Le script commence par importer les bibliothèques nécessaires de Stable Baselines3 (`PPO`) et de Gym (`gym`) pour l'apprentissage par renforcement.\n",
        "   - `DummyVecEnv` est importé pour envelopper l'environnement en tant qu'environnement vectorisé, ce qui est souvent utilisé avec les algorithmes d'apprentissage par renforcement.\n",
        "\n",
        "2. **Définition de l'environnement de trading** :\n",
        "   - Un environnement de trading personnalisé est défini, qui est une sous-classe de `gym.Env`.\n",
        "   - Dans le constructeur `__init__`, l'environnement est initialisé avec un jeu de données `data` représentant des données financières.\n",
        "   - `action_space` définit les actions possibles qu'un agent peut entreprendre : Acheter, Vendre ou Rester (Hold). Il est défini comme un espace discret avec 3 actions.\n",
        "   - `observation_space` définit l'espace des observations. Il est défini comme un espace continu avec des valeurs entre 0 et 1, avec une forme correspondant au nombre de colonnes dans les données.\n",
        "\n",
        "3. **Méthode de réinitialisation (reset)** :\n",
        "   - La méthode `reset` est appelée pour réinitialiser l'état de l'environnement aux conditions initiales.\n",
        "   - Le solde du compte de l'agent, les actions détenues, la valeur nette et la valeur nette maximale sont initialisés.\n",
        "   - Elle renvoie l'observation initiale en utilisant `_next_observation()`.\n",
        "\n",
        "4. **Méthode `_next_observation`** :\n",
        "   - La méthode `_next_observation` renvoie l'observation pour l'instant courant, qui correspond simplement aux données financières à cet instant.\n",
        "\n",
        "5. **Méthode `step`** :\n",
        "   - La méthode `step` est appelée lorsque l'agent prend une action.\n",
        "   - Elle prend l'action en entrée, met à jour l'état de l'environnement avec `_take_action(action)`, avance d'un pas de temps et renvoie :\n",
        "     - La prochaine observation.\n",
        "     - La récompense, calculée à l'aide de `_get_reward()`.\n",
        "     - La nouvelle valeur nette.\n",
        "     - Un dictionnaire vide, une pratique courante dans les environnements Gym pour renvoyer des informations supplémentaires (non utilisé ici).\n",
        "\n",
        "6. **Méthode `_take_action`** :\n",
        "   - La méthode `_take_action` met à jour l'état de l'environnement en fonction de l'action choisie.\n",
        "   - Si l'action est d'acheter (action 0), elle calcule le nombre d'actions que l'agent peut acheter et met à jour le solde du compte et les actions détenues en conséquence.\n",
        "   - Si l'action est de vendre (action 1), elle calcule les produits de la vente de toutes les actions détenues et met à jour le solde du compte et les actions détenues.\n",
        "   - La valeur nette est mise à jour en conséquence, et si elle atteint un nouveau maximum, `max_net_worth` est mis à jour.\n",
        "\n",
        "7. **Méthode `_get_reward`** :\n",
        "   - `_get_reward` calcule la récompense de l'agent, qui correspond à la variation de la valeur nette par rapport au solde du compte initial.\n",
        "\n",
        "8. **Création de l'environnement de trading** :\n",
        "   - Après avoir défini l'environnement de trading personnalisé, une instance de cet environnement (`env`) est créée et initialisée avec `train_data`.\n",
        "\n",
        "Cet environnement personnalisé est conçu pour permettre aux agents d'apprentissage par renforcement d'apprendre comment prendre des décisions de trading sur le marché financier en fonction des données fournies. Il fournit des observations, des actions et des récompenses pour faciliter la formation des agents d'apprentissage par renforcement à l'aide d'algorithmes tels que PPO."
      ],
      "metadata": {
        "id": "6mN9Z8qTljq5"
      }
    },
    {
      "cell_type": "code",
      "source": [
        "# Initialize the PPO model\n",
        "model = PPO(\"MlpPolicy\", env, verbose=1)\n",
        "\n",
        "# Train the model\n",
        "model.learn(total_timesteps=50000)"
      ],
      "metadata": {
        "colab": {
          "base_uri": "https://localhost:8080/"
        },
        "id": "V2jmKxQ8lpfD",
        "outputId": "ef998db9-8abd-4cd4-d2cd-cffb8622c0d7"
      },
      "execution_count": 125,
      "outputs": [
        {
          "output_type": "stream",
          "name": "stdout",
          "text": [
            "Using cpu device\n",
            "Wrapping the env with a `Monitor` wrapper\n",
            "Wrapping the env in a DummyVecEnv.\n"
          ]
        },
        {
          "output_type": "stream",
          "name": "stderr",
          "text": [
            "/usr/local/lib/python3.10/dist-packages/stable_baselines3/common/vec_env/patch_gym.py:49: UserWarning: You provided an OpenAI Gym environment. We strongly recommend transitioning to Gymnasium environments. Stable-Baselines3 is automatically wrapping your environments in a compatibility layer, which could potentially cause issues.\n",
            "  warnings.warn(\n"
          ]
        },
        {
          "output_type": "stream",
          "name": "stdout",
          "text": [
            "---------------------------------\n",
            "| rollout/           |          |\n",
            "|    ep_len_mean     | 1        |\n",
            "|    ep_rew_mean     | 3.3e+04  |\n",
            "| time/              |          |\n",
            "|    fps             | 908      |\n",
            "|    iterations      | 1        |\n",
            "|    time_elapsed    | 2        |\n",
            "|    total_timesteps | 2048     |\n",
            "---------------------------------\n",
            "-------------------------------------------\n",
            "| rollout/                |               |\n",
            "|    ep_len_mean          | 1             |\n",
            "|    ep_rew_mean          | 3.4e+04       |\n",
            "| time/                   |               |\n",
            "|    fps                  | 680           |\n",
            "|    iterations           | 2             |\n",
            "|    time_elapsed         | 6             |\n",
            "|    total_timesteps      | 4096          |\n",
            "| train/                  |               |\n",
            "|    approx_kl            | 6.0165563e-05 |\n",
            "|    clip_fraction        | 0             |\n",
            "|    clip_range           | 0.2           |\n",
            "|    entropy_loss         | -1.1          |\n",
            "|    explained_variance   | 0             |\n",
            "|    learning_rate        | 0.0003        |\n",
            "|    loss                 | 1.87e+09      |\n",
            "|    n_updates            | 10            |\n",
            "|    policy_gradient_loss | -0.00693      |\n",
            "|    value_loss           | 3.26e+09      |\n",
            "-------------------------------------------\n",
            "-----------------------------------------\n",
            "| rollout/                |             |\n",
            "|    ep_len_mean          | 1           |\n",
            "|    ep_rew_mean          | 3.7e+04     |\n",
            "| time/                   |             |\n",
            "|    fps                  | 542         |\n",
            "|    iterations           | 3           |\n",
            "|    time_elapsed         | 11          |\n",
            "|    total_timesteps      | 6144        |\n",
            "| train/                  |             |\n",
            "|    approx_kl            | 1.76389e-05 |\n",
            "|    clip_fraction        | 0           |\n",
            "|    clip_range           | 0.2         |\n",
            "|    entropy_loss         | -1.1        |\n",
            "|    explained_variance   | 0           |\n",
            "|    learning_rate        | 0.0003      |\n",
            "|    loss                 | 1.48e+09    |\n",
            "|    n_updates            | 20          |\n",
            "|    policy_gradient_loss | -0.00307    |\n",
            "|    value_loss           | 3.49e+09    |\n",
            "-----------------------------------------\n",
            "-------------------------------------------\n",
            "| rollout/                |               |\n",
            "|    ep_len_mean          | 1             |\n",
            "|    ep_rew_mean          | 1.9e+04       |\n",
            "| time/                   |               |\n",
            "|    fps                  | 549           |\n",
            "|    iterations           | 4             |\n",
            "|    time_elapsed         | 14            |\n",
            "|    total_timesteps      | 8192          |\n",
            "| train/                  |               |\n",
            "|    approx_kl            | 1.7923594e-05 |\n",
            "|    clip_fraction        | 0             |\n",
            "|    clip_range           | 0.2           |\n",
            "|    entropy_loss         | -1.1          |\n",
            "|    explained_variance   | 2.38e-07      |\n",
            "|    learning_rate        | 0.0003        |\n",
            "|    loss                 | 1.72e+09      |\n",
            "|    n_updates            | 30            |\n",
            "|    policy_gradient_loss | -0.0031       |\n",
            "|    value_loss           | 3.48e+09      |\n",
            "-------------------------------------------\n",
            "-------------------------------------------\n",
            "| rollout/                |               |\n",
            "|    ep_len_mean          | 1             |\n",
            "|    ep_rew_mean          | 4.7e+04       |\n",
            "| time/                   |               |\n",
            "|    fps                  | 557           |\n",
            "|    iterations           | 5             |\n",
            "|    time_elapsed         | 18            |\n",
            "|    total_timesteps      | 10240         |\n",
            "| train/                  |               |\n",
            "|    approx_kl            | 1.9127328e-05 |\n",
            "|    clip_fraction        | 0             |\n",
            "|    clip_range           | 0.2           |\n",
            "|    entropy_loss         | -1.1          |\n",
            "|    explained_variance   | 0             |\n",
            "|    learning_rate        | 0.0003        |\n",
            "|    loss                 | 1.95e+09      |\n",
            "|    n_updates            | 40            |\n",
            "|    policy_gradient_loss | -0.00318      |\n",
            "|    value_loss           | 3.33e+09      |\n",
            "-------------------------------------------\n",
            "-------------------------------------------\n",
            "| rollout/                |               |\n",
            "|    ep_len_mean          | 1             |\n",
            "|    ep_rew_mean          | 3.4e+04       |\n",
            "| time/                   |               |\n",
            "|    fps                  | 558           |\n",
            "|    iterations           | 6             |\n",
            "|    time_elapsed         | 21            |\n",
            "|    total_timesteps      | 12288         |\n",
            "| train/                  |               |\n",
            "|    approx_kl            | 1.7642276e-05 |\n",
            "|    clip_fraction        | 0             |\n",
            "|    clip_range           | 0.2           |\n",
            "|    entropy_loss         | -1.1          |\n",
            "|    explained_variance   | 0             |\n",
            "|    learning_rate        | 0.0003        |\n",
            "|    loss                 | 2.19e+09      |\n",
            "|    n_updates            | 50            |\n",
            "|    policy_gradient_loss | -0.00306      |\n",
            "|    value_loss           | 3.63e+09      |\n",
            "-------------------------------------------\n",
            "------------------------------------------\n",
            "| rollout/                |              |\n",
            "|    ep_len_mean          | 1            |\n",
            "|    ep_rew_mean          | 3.3e+04      |\n",
            "| time/                   |              |\n",
            "|    fps                  | 543          |\n",
            "|    iterations           | 7            |\n",
            "|    time_elapsed         | 26           |\n",
            "|    total_timesteps      | 14336        |\n",
            "| train/                  |              |\n",
            "|    approx_kl            | 1.825663e-05 |\n",
            "|    clip_fraction        | 0            |\n",
            "|    clip_range           | 0.2          |\n",
            "|    entropy_loss         | -1.1         |\n",
            "|    explained_variance   | 0            |\n",
            "|    learning_rate        | 0.0003       |\n",
            "|    loss                 | 1.72e+09     |\n",
            "|    n_updates            | 60           |\n",
            "|    policy_gradient_loss | -0.00312     |\n",
            "|    value_loss           | 3.51e+09     |\n",
            "------------------------------------------\n",
            "-------------------------------------------\n",
            "| rollout/                |               |\n",
            "|    ep_len_mean          | 1             |\n",
            "|    ep_rew_mean          | 3.5e+04       |\n",
            "| time/                   |               |\n",
            "|    fps                  | 549           |\n",
            "|    iterations           | 8             |\n",
            "|    time_elapsed         | 29            |\n",
            "|    total_timesteps      | 16384         |\n",
            "| train/                  |               |\n",
            "|    approx_kl            | 1.8109597e-05 |\n",
            "|    clip_fraction        | 0             |\n",
            "|    clip_range           | 0.2           |\n",
            "|    entropy_loss         | -1.1          |\n",
            "|    explained_variance   | -1.19e-07     |\n",
            "|    learning_rate        | 0.0003        |\n",
            "|    loss                 | 1.4e+09       |\n",
            "|    n_updates            | 70            |\n",
            "|    policy_gradient_loss | -0.00311      |\n",
            "|    value_loss           | 3.58e+09      |\n",
            "-------------------------------------------\n",
            "------------------------------------------\n",
            "| rollout/                |              |\n",
            "|    ep_len_mean          | 1            |\n",
            "|    ep_rew_mean          | 3.5e+04      |\n",
            "| time/                   |              |\n",
            "|    fps                  | 553          |\n",
            "|    iterations           | 9            |\n",
            "|    time_elapsed         | 33           |\n",
            "|    total_timesteps      | 18432        |\n",
            "| train/                  |              |\n",
            "|    approx_kl            | 1.812572e-05 |\n",
            "|    clip_fraction        | 0            |\n",
            "|    clip_range           | 0.2          |\n",
            "|    entropy_loss         | -1.1         |\n",
            "|    explained_variance   | 1.19e-07     |\n",
            "|    learning_rate        | 0.0003       |\n",
            "|    loss                 | 1.79e+09     |\n",
            "|    n_updates            | 80           |\n",
            "|    policy_gradient_loss | -0.00311     |\n",
            "|    value_loss           | 3.61e+09     |\n",
            "------------------------------------------\n",
            "-------------------------------------------\n",
            "| rollout/                |               |\n",
            "|    ep_len_mean          | 1             |\n",
            "|    ep_rew_mean          | 3.9e+04       |\n",
            "| time/                   |               |\n",
            "|    fps                  | 545           |\n",
            "|    iterations           | 10            |\n",
            "|    time_elapsed         | 37            |\n",
            "|    total_timesteps      | 20480         |\n",
            "| train/                  |               |\n",
            "|    approx_kl            | 1.8154737e-05 |\n",
            "|    clip_fraction        | 0             |\n",
            "|    clip_range           | 0.2           |\n",
            "|    entropy_loss         | -1.1          |\n",
            "|    explained_variance   | 0             |\n",
            "|    learning_rate        | 0.0003        |\n",
            "|    loss                 | 1.4e+09       |\n",
            "|    n_updates            | 90            |\n",
            "|    policy_gradient_loss | -0.00312      |\n",
            "|    value_loss           | 3.6e+09       |\n",
            "-------------------------------------------\n",
            "-------------------------------------------\n",
            "| rollout/                |               |\n",
            "|    ep_len_mean          | 1             |\n",
            "|    ep_rew_mean          | 3.2e+04       |\n",
            "| time/                   |               |\n",
            "|    fps                  | 546           |\n",
            "|    iterations           | 11            |\n",
            "|    time_elapsed         | 41            |\n",
            "|    total_timesteps      | 22528         |\n",
            "| train/                  |               |\n",
            "|    approx_kl            | 1.7866667e-05 |\n",
            "|    clip_fraction        | 0             |\n",
            "|    clip_range           | 0.2           |\n",
            "|    entropy_loss         | -1.1          |\n",
            "|    explained_variance   | 1.19e-07      |\n",
            "|    learning_rate        | 0.0003        |\n",
            "|    loss                 | 2.18e+09      |\n",
            "|    n_updates            | 100           |\n",
            "|    policy_gradient_loss | -0.00309      |\n",
            "|    value_loss           | 3.69e+09      |\n",
            "-------------------------------------------\n",
            "-------------------------------------------\n",
            "| rollout/                |               |\n",
            "|    ep_len_mean          | 1             |\n",
            "|    ep_rew_mean          | 4.5e+04       |\n",
            "| time/                   |               |\n",
            "|    fps                  | 550           |\n",
            "|    iterations           | 12            |\n",
            "|    time_elapsed         | 44            |\n",
            "|    total_timesteps      | 24576         |\n",
            "| train/                  |               |\n",
            "|    approx_kl            | 1.7827027e-05 |\n",
            "|    clip_fraction        | 0             |\n",
            "|    clip_range           | 0.2           |\n",
            "|    entropy_loss         | -1.1          |\n",
            "|    explained_variance   | -2.38e-07     |\n",
            "|    learning_rate        | 0.0003        |\n",
            "|    loss                 | 2.03e+09      |\n",
            "|    n_updates            | 110           |\n",
            "|    policy_gradient_loss | -0.00309      |\n",
            "|    value_loss           | 3.68e+09      |\n",
            "-------------------------------------------\n",
            "-------------------------------------------\n",
            "| rollout/                |               |\n",
            "|    ep_len_mean          | 1             |\n",
            "|    ep_rew_mean          | 4e+04         |\n",
            "| time/                   |               |\n",
            "|    fps                  | 552           |\n",
            "|    iterations           | 13            |\n",
            "|    time_elapsed         | 48            |\n",
            "|    total_timesteps      | 26624         |\n",
            "| train/                  |               |\n",
            "|    approx_kl            | 1.7847226e-05 |\n",
            "|    clip_fraction        | 0             |\n",
            "|    clip_range           | 0.2           |\n",
            "|    entropy_loss         | -1.1          |\n",
            "|    explained_variance   | -1.19e-07     |\n",
            "|    learning_rate        | 0.0003        |\n",
            "|    loss                 | 2.03e+09      |\n",
            "|    n_updates            | 120           |\n",
            "|    policy_gradient_loss | -0.00309      |\n",
            "|    value_loss           | 3.71e+09      |\n",
            "-------------------------------------------\n",
            "-------------------------------------------\n",
            "| rollout/                |               |\n",
            "|    ep_len_mean          | 1             |\n",
            "|    ep_rew_mean          | 3.7e+04       |\n",
            "| time/                   |               |\n",
            "|    fps                  | 544           |\n",
            "|    iterations           | 14            |\n",
            "|    time_elapsed         | 52            |\n",
            "|    total_timesteps      | 28672         |\n",
            "| train/                  |               |\n",
            "|    approx_kl            | 1.7890678e-05 |\n",
            "|    clip_fraction        | 0             |\n",
            "|    clip_range           | 0.2           |\n",
            "|    entropy_loss         | -1.1          |\n",
            "|    explained_variance   | 0             |\n",
            "|    learning_rate        | 0.0003        |\n",
            "|    loss                 | 1.72e+09      |\n",
            "|    n_updates            | 130           |\n",
            "|    policy_gradient_loss | -0.00309      |\n",
            "|    value_loss           | 3.71e+09      |\n",
            "-------------------------------------------\n",
            "-------------------------------------------\n",
            "| rollout/                |               |\n",
            "|    ep_len_mean          | 1             |\n",
            "|    ep_rew_mean          | 4.1e+04       |\n",
            "| time/                   |               |\n",
            "|    fps                  | 546           |\n",
            "|    iterations           | 15            |\n",
            "|    time_elapsed         | 56            |\n",
            "|    total_timesteps      | 30720         |\n",
            "| train/                  |               |\n",
            "|    approx_kl            | 1.7622428e-05 |\n",
            "|    clip_fraction        | 0             |\n",
            "|    clip_range           | 0.2           |\n",
            "|    entropy_loss         | -1.09         |\n",
            "|    explained_variance   | 0             |\n",
            "|    learning_rate        | 0.0003        |\n",
            "|    loss                 | 2.26e+09      |\n",
            "|    n_updates            | 140           |\n",
            "|    policy_gradient_loss | -0.00307      |\n",
            "|    value_loss           | 3.79e+09      |\n",
            "-------------------------------------------\n",
            "-------------------------------------------\n",
            "| rollout/                |               |\n",
            "|    ep_len_mean          | 1             |\n",
            "|    ep_rew_mean          | 4.1e+04       |\n",
            "| time/                   |               |\n",
            "|    fps                  | 548           |\n",
            "|    iterations           | 16            |\n",
            "|    time_elapsed         | 59            |\n",
            "|    total_timesteps      | 32768         |\n",
            "| train/                  |               |\n",
            "|    approx_kl            | 1.7724087e-05 |\n",
            "|    clip_fraction        | 0             |\n",
            "|    clip_range           | 0.2           |\n",
            "|    entropy_loss         | -1.09         |\n",
            "|    explained_variance   | 0             |\n",
            "|    learning_rate        | 0.0003        |\n",
            "|    loss                 | 1.79e+09      |\n",
            "|    n_updates            | 150           |\n",
            "|    policy_gradient_loss | -0.00307      |\n",
            "|    value_loss           | 3.79e+09      |\n",
            "-------------------------------------------\n",
            "-------------------------------------------\n",
            "| rollout/                |               |\n",
            "|    ep_len_mean          | 1             |\n",
            "|    ep_rew_mean          | 3.5e+04       |\n",
            "| time/                   |               |\n",
            "|    fps                  | 544           |\n",
            "|    iterations           | 17            |\n",
            "|    time_elapsed         | 63            |\n",
            "|    total_timesteps      | 34816         |\n",
            "| train/                  |               |\n",
            "|    approx_kl            | 1.8105173e-05 |\n",
            "|    clip_fraction        | 0             |\n",
            "|    clip_range           | 0.2           |\n",
            "|    entropy_loss         | -1.09         |\n",
            "|    explained_variance   | 0             |\n",
            "|    learning_rate        | 0.0003        |\n",
            "|    loss                 | 1.48e+09      |\n",
            "|    n_updates            | 160           |\n",
            "|    policy_gradient_loss | -0.00311      |\n",
            "|    value_loss           | 3.74e+09      |\n",
            "-------------------------------------------\n",
            "-------------------------------------------\n",
            "| rollout/                |               |\n",
            "|    ep_len_mean          | 1             |\n",
            "|    ep_rew_mean          | 2.8e+04       |\n",
            "| time/                   |               |\n",
            "|    fps                  | 545           |\n",
            "|    iterations           | 18            |\n",
            "|    time_elapsed         | 67            |\n",
            "|    total_timesteps      | 36864         |\n",
            "| train/                  |               |\n",
            "|    approx_kl            | 1.8656545e-05 |\n",
            "|    clip_fraction        | 0             |\n",
            "|    clip_range           | 0.2           |\n",
            "|    entropy_loss         | -1.09         |\n",
            "|    explained_variance   | 0             |\n",
            "|    learning_rate        | 0.0003        |\n",
            "|    loss                 | 2.18e+09      |\n",
            "|    n_updates            | 170           |\n",
            "|    policy_gradient_loss | -0.00316      |\n",
            "|    value_loss           | 3.66e+09      |\n",
            "-------------------------------------------\n",
            "------------------------------------------\n",
            "| rollout/                |              |\n",
            "|    ep_len_mean          | 1            |\n",
            "|    ep_rew_mean          | 3.9e+04      |\n",
            "| time/                   |              |\n",
            "|    fps                  | 547          |\n",
            "|    iterations           | 19           |\n",
            "|    time_elapsed         | 71           |\n",
            "|    total_timesteps      | 38912        |\n",
            "| train/                  |              |\n",
            "|    approx_kl            | 1.836504e-05 |\n",
            "|    clip_fraction        | 0            |\n",
            "|    clip_range           | 0.2          |\n",
            "|    entropy_loss         | -1.09        |\n",
            "|    explained_variance   | 0            |\n",
            "|    learning_rate        | 0.0003       |\n",
            "|    loss                 | 1.56e+09     |\n",
            "|    n_updates            | 180          |\n",
            "|    policy_gradient_loss | -0.00314     |\n",
            "|    value_loss           | 3.73e+09     |\n",
            "------------------------------------------\n",
            "------------------------------------------\n",
            "| rollout/                |              |\n",
            "|    ep_len_mean          | 1            |\n",
            "|    ep_rew_mean          | 3.9e+04      |\n",
            "| time/                   |              |\n",
            "|    fps                  | 548          |\n",
            "|    iterations           | 20           |\n",
            "|    time_elapsed         | 74           |\n",
            "|    total_timesteps      | 40960        |\n",
            "| train/                  |              |\n",
            "|    approx_kl            | 1.836574e-05 |\n",
            "|    clip_fraction        | 0            |\n",
            "|    clip_range           | 0.2          |\n",
            "|    entropy_loss         | -1.09        |\n",
            "|    explained_variance   | -1.19e-07    |\n",
            "|    learning_rate        | 0.0003       |\n",
            "|    loss                 | 1.95e+09     |\n",
            "|    n_updates            | 190          |\n",
            "|    policy_gradient_loss | -0.00313     |\n",
            "|    value_loss           | 3.77e+09     |\n",
            "------------------------------------------\n",
            "-------------------------------------------\n",
            "| rollout/                |               |\n",
            "|    ep_len_mean          | 1             |\n",
            "|    ep_rew_mean          | 3.4e+04       |\n",
            "| time/                   |               |\n",
            "|    fps                  | 543           |\n",
            "|    iterations           | 21            |\n",
            "|    time_elapsed         | 79            |\n",
            "|    total_timesteps      | 43008         |\n",
            "| train/                  |               |\n",
            "|    approx_kl            | 1.7029466e-05 |\n",
            "|    clip_fraction        | 0             |\n",
            "|    clip_range           | 0.2           |\n",
            "|    entropy_loss         | -1.09         |\n",
            "|    explained_variance   | -1.19e-07     |\n",
            "|    learning_rate        | 0.0003        |\n",
            "|    loss                 | 1.64e+09      |\n",
            "|    n_updates            | 200           |\n",
            "|    policy_gradient_loss | -0.00303      |\n",
            "|    value_loss           | 3.99e+09      |\n",
            "-------------------------------------------\n",
            "-------------------------------------------\n",
            "| rollout/                |               |\n",
            "|    ep_len_mean          | 1             |\n",
            "|    ep_rew_mean          | 4.5e+04       |\n",
            "| time/                   |               |\n",
            "|    fps                  | 545           |\n",
            "|    iterations           | 22            |\n",
            "|    time_elapsed         | 82            |\n",
            "|    total_timesteps      | 45056         |\n",
            "| train/                  |               |\n",
            "|    approx_kl            | 1.8943392e-05 |\n",
            "|    clip_fraction        | 0             |\n",
            "|    clip_range           | 0.2           |\n",
            "|    entropy_loss         | -1.09         |\n",
            "|    explained_variance   | 0             |\n",
            "|    learning_rate        | 0.0003        |\n",
            "|    loss                 | 2.1e+09       |\n",
            "|    n_updates            | 210           |\n",
            "|    policy_gradient_loss | -0.00317      |\n",
            "|    value_loss           | 3.72e+09      |\n",
            "-------------------------------------------\n",
            "------------------------------------------\n",
            "| rollout/                |              |\n",
            "|    ep_len_mean          | 1            |\n",
            "|    ep_rew_mean          | 3.9e+04      |\n",
            "| time/                   |              |\n",
            "|    fps                  | 547          |\n",
            "|    iterations           | 23           |\n",
            "|    time_elapsed         | 86           |\n",
            "|    total_timesteps      | 47104        |\n",
            "| train/                  |              |\n",
            "|    approx_kl            | 1.773989e-05 |\n",
            "|    clip_fraction        | 0            |\n",
            "|    clip_range           | 0.2          |\n",
            "|    entropy_loss         | -1.09        |\n",
            "|    explained_variance   | 0            |\n",
            "|    learning_rate        | 0.0003       |\n",
            "|    loss                 | 1.79e+09     |\n",
            "|    n_updates            | 220          |\n",
            "|    policy_gradient_loss | -0.00308     |\n",
            "|    value_loss           | 3.93e+09     |\n",
            "------------------------------------------\n",
            "-------------------------------------------\n",
            "| rollout/                |               |\n",
            "|    ep_len_mean          | 1             |\n",
            "|    ep_rew_mean          | 3.3e+04       |\n",
            "| time/                   |               |\n",
            "|    fps                  | 544           |\n",
            "|    iterations           | 24            |\n",
            "|    time_elapsed         | 90            |\n",
            "|    total_timesteps      | 49152         |\n",
            "| train/                  |               |\n",
            "|    approx_kl            | 1.7308717e-05 |\n",
            "|    clip_fraction        | 0             |\n",
            "|    clip_range           | 0.2           |\n",
            "|    entropy_loss         | -1.09         |\n",
            "|    explained_variance   | 0             |\n",
            "|    learning_rate        | 0.0003        |\n",
            "|    loss                 | 1.56e+09      |\n",
            "|    n_updates            | 230           |\n",
            "|    policy_gradient_loss | -0.00304      |\n",
            "|    value_loss           | 4.02e+09      |\n",
            "-------------------------------------------\n",
            "-------------------------------------------\n",
            "| rollout/                |               |\n",
            "|    ep_len_mean          | 1             |\n",
            "|    ep_rew_mean          | 5e+04         |\n",
            "| time/                   |               |\n",
            "|    fps                  | 544           |\n",
            "|    iterations           | 25            |\n",
            "|    time_elapsed         | 94            |\n",
            "|    total_timesteps      | 51200         |\n",
            "| train/                  |               |\n",
            "|    approx_kl            | 1.7403683e-05 |\n",
            "|    clip_fraction        | 0             |\n",
            "|    clip_range           | 0.2           |\n",
            "|    entropy_loss         | -1.09         |\n",
            "|    explained_variance   | 0             |\n",
            "|    learning_rate        | 0.0003        |\n",
            "|    loss                 | 1.79e+09      |\n",
            "|    n_updates            | 240           |\n",
            "|    policy_gradient_loss | -0.00305      |\n",
            "|    value_loss           | 4.04e+09      |\n",
            "-------------------------------------------\n"
          ]
        },
        {
          "output_type": "execute_result",
          "data": {
            "text/plain": [
              "<stable_baselines3.ppo.ppo.PPO at 0x7a0703cc61a0>"
            ]
          },
          "metadata": {},
          "execution_count": 125
        }
      ]
    },
    {
      "cell_type": "markdown",
      "source": [
        "## Step 4: Evaluating the Trading Strategy"
      ],
      "metadata": {
        "id": "BWb5to-bqKtf"
      }
    },
    {
      "cell_type": "markdown",
      "source": [
        "Commençons par définir une fonction pour simuler la stratégie de trading."
      ],
      "metadata": {
        "id": "9JBC1AdqqYn_"
      }
    },
    {
      "cell_type": "code",
      "source": [
        "monvar = []\n",
        "def simulate_trading_strategy(model, data):\n",
        "    global monvar\n",
        "    env = TradingEnvironment(data)\n",
        "    obs = env.reset()\n",
        "\n",
        "    for i in range(len(data)):\n",
        "        action, _ = model.predict(obs)\n",
        "        obs, _, _, _ = env.step(action)\n",
        "        monvar.append(env.net_worth)\n",
        "\n",
        "    return env.net_worth"
      ],
      "metadata": {
        "id": "bEFXk1xkp9lZ"
      },
      "execution_count": 126,
      "outputs": []
    },
    {
      "cell_type": "code",
      "source": [
        "# Simulate the trading strategy on the testing data\n",
        "net_worth = simulate_trading_strategy(model, test_data)"
      ],
      "metadata": {
        "id": "rC_eMUHpqdq8"
      },
      "execution_count": 127,
      "outputs": []
    },
    {
      "cell_type": "markdown",
      "source": [
        "## Step 5: Visualizing the Results\n"
      ],
      "metadata": {
        "id": "OXNZ4EFvqot5"
      }
    },
    {
      "cell_type": "code",
      "source": [
        "%matplotlib inline\n",
        "import matplotlib.pyplot as plt\n",
        "\n",
        "# Plot the net worth over time\n",
        "plt.plot(monvar)\n",
        "plt.xlabel(\"Time\")\n",
        "plt.ylabel(\"Net Worth\")\n",
        "plt.title(\"Net Worth over Time\")\n",
        "plt.show()"
      ],
      "metadata": {
        "id": "FrkM3nFyqirR",
        "outputId": "bda3f8c8-32fd-4df8-d87e-633e136e0169",
        "colab": {
          "base_uri": "https://localhost:8080/",
          "height": 480
        }
      },
      "execution_count": 128,
      "outputs": [
        {
          "output_type": "display_data",
          "data": {
            "text/plain": [
              "<Figure size 640x480 with 1 Axes>"
            ],
            "image/png": "[encoded data removed]"
          },
          "metadata": {}
        }
      ]
    },
    {
      "cell_type": "code",
      "source": [],
      "metadata": {
        "id": "3mlbdXjGtXi-"
      },
      "execution_count": null,
      "outputs": []
    }
  ]
}